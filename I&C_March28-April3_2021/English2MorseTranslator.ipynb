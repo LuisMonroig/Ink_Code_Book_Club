{
 "cells": [
  {
   "cell_type": "markdown",
   "metadata": {},
   "source": [
    "## Translator of a capitalized english sentence to morse code symbols using python:"
   ]
  },
  {
   "cell_type": "code",
   "execution_count": null,
   "metadata": {},
   "outputs": [],
   "source": [
    "translator = {\"A\":\"·-\", \"J\":\"·---\", \"S\":\"···\", \"B\":\"-···\", \"K\":\"-·-\", \"T\":\"-\", \"C\":\"-·-·\", \"L\":\"·-··\",\n",
    "\"U\":\"··-\", \"D\":\"-··\", \"M\":\"--\", \"V\":\"···-\", \"E\":\"·\", \"N\":\"-·\", \"W\":\"·--\", \"F\":\"··-·\", \"O\":\"---\", \"X\":\"-··-\", \"G\":\"--·\",\n",
    "\"P\":\"·--·\", \"Y\":\"-·--\", \"H\":\"····\", \"Q\":\"--·-\",\n",
    "\"Z\":\"--··\", \"I\":\"··\", \"R\":\"·-·\"}\n",
    "\n",
    "message = input(\"Please enter the message to convert to Morse: \")\n",
    "\n",
    "for i in message:\n",
    "    if i in translator:\n",
    "        print(translator[i],end= \" \")\n",
    "    else: \n",
    "        print(i,end= \" \")\n",
    "        "
   ]
  },
  {
   "cell_type": "markdown",
   "metadata": {},
   "source": [
    "### Simple ideas to enhance this script: \n",
    "\n",
    "- Add more symbols to the dictionary\n",
    "- Look for more efficient implementations of this idea\n",
    "\n"
   ]
  }
 ],
 "metadata": {
  "kernelspec": {
   "display_name": "Python 3",
   "language": "python",
   "name": "python3"
  },
  "language_info": {
   "codemirror_mode": {
    "name": "ipython",
    "version": 3
   },
   "file_extension": ".py",
   "mimetype": "text/x-python",
   "name": "python",
   "nbconvert_exporter": "python",
   "pygments_lexer": "ipython3",
   "version": "3.7.7"
  }
 },
 "nbformat": 4,
 "nbformat_minor": 4
}
